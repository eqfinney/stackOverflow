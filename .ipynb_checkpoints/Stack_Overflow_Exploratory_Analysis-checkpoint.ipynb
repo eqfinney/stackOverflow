{
 "cells": [
  {
   "cell_type": "code",
   "execution_count": 52,
   "metadata": {},
   "outputs": [],
   "source": [
    "#\n",
    "# Stack Overflow Exploratory Analysis:\n",
    "# My exploratory analysis of the 2017 Stack Overflow Developer Survey.\n",
    "# Mostly as a means of trying all the data visualization tools.\n",
    "# Author: Emily Quinn Finney\n",
    "#\n",
    "\n",
    "import pandas as pd\n",
    "import numpy as np\n",
    "import matplotlib.pyplot as plt\n",
    "\n",
    "data = pd.read_csv('survey_results_public.csv', index_col=0, \n",
    "                   usecols=[0] + list(range(5,9)) + [18, 87, 145, 146, 147, 152])\n",
    "salary_data = data[np.isfinite(data['Salary'])]"
   ]
  },
  {
   "cell_type": "code",
   "execution_count": 53,
   "metadata": {},
   "outputs": [],
   "source": [
    "barplot_set_1d = salary_data.select_dtypes(exclude=['float', 'int'])\n",
    "hist_set_1d = salary_data.select_dtypes(include=['float', 'int'])"
   ]
  },
  {
   "cell_type": "code",
   "execution_count": 51,
   "metadata": {
    "collapsed": true
   },
   "outputs": [],
   "source": [
    "def barplot_matplotlib(categorical_data):\n",
    "    plt.clf()\n",
    "    num_counts = categorical_data.value_counts()\n",
    "    plt.bar(range(len(num_counts)), num_counts.values)\n",
    "    plt.xlabel(categorical_data.name)\n",
    "    plt.ylabel('Frequency')\n",
    "    plt.title(categorical_data.name + \" vs. frequency\")\n",
    "    plt.show()\n",
    "        \n",
    "def histogram_matplotlib(numerical_data):\n",
    "    plt.clf()\n",
    "    plt.hist(numerical_data, bins=50)\n",
    "    plt.xlabel(numerical_data.name)\n",
    "    plt.ylabel('Frequency')\n",
    "    plt.title(numerical_data.name + \" vs. frequency\")\n",
    "    plt.show()\n",
    "\n",
    "def boxplot_matplotlib(categorical_data, numerical_data):\n",
    "    for index in categorical_data.value_counts():\n",
    "        plt.clf()\n",
    "        plt.violinplot(range(categorical_data.value_counts()), numerical_data[categorical_data == index])\n",
    "        plt.xlabel(categorical_data.name)\n",
    "        plt.ylabel(numerical_data.name)\n",
    "        plt.title(categorical_data.name + \" vs. \" + numerical_data.name)\n",
    "        plt.show()"
   ]
  },
  {
   "cell_type": "code",
   "execution_count": null,
   "metadata": {
    "collapsed": true
   },
   "outputs": [],
   "source": [
    "for column in barplot_set_1d:\n",
    "    barplot_matplotlib(barplot_set_1d[column].dropna())\n",
    "    \n",
    "for column in hist_set_1d:\n",
    "    histogram_matplotlib(hist_set_1d[column].dropna())\n",
    "    \n",
    "for catcol in barplot_set_1d:\n",
    "    for numcol in hist_set_1d:\n",
    "        # find a way to drop the NaNs in this data set, but okay\n",
    "        boxplot_matplotlib(barplot_set_1d[catcol], hist_set_1d[numcol])"
   ]
  },
  {
   "cell_type": "code",
   "execution_count": 45,
   "metadata": {
    "collapsed": true
   },
   "outputs": [],
   "source": [
    "def barplot_plotly(categorical_data):\n",
    "    pass\n",
    "     \n",
    "    \n",
    "def histogram_plotly(numerical_data):\n",
    "    pass\n",
    "\n",
    "\n",
    "def boxplot_plotly(categorical_data, numerical_data):\n",
    "    pass"
   ]
  },
  {
   "cell_type": "code",
   "execution_count": null,
   "metadata": {
    "collapsed": true
   },
   "outputs": [],
   "source": [
    "for column in barplot_set_1d:\n",
    "    barplot_plotlymatplotlib(barplot_set_1d[column].dropna())\n",
    "    \n",
    "for column in hist_set_1d:\n",
    "    histogram_plotly(hist_set_1d[column].dropna())\n",
    "    \n",
    "for catcol in barplot_set_1d:\n",
    "    for numcol in hist_set_1d:\n",
    "        # find a way to drop the NaNs in this data set, but okay\n",
    "        boxplot_plotly(barplot_set_1d[catcol], hist_set_1d[numcol])"
   ]
  },
  {
   "cell_type": "code",
   "execution_count": 46,
   "metadata": {
    "collapsed": true
   },
   "outputs": [],
   "source": [
    "def barplot_seaborn(categorical_data):\n",
    "    pass\n",
    "     \n",
    "    \n",
    "def histogram_seaborn(numerical_data):\n",
    "    pass\n",
    "\n",
    "\n",
    "def boxplot_seaborn(categorical_data, numerical_data):\n",
    "    pass"
   ]
  },
  {
   "cell_type": "code",
   "execution_count": null,
   "metadata": {
    "collapsed": true
   },
   "outputs": [],
   "source": [
    "for column in barplot_set_1d:\n",
    "    barplot_seaborn(barplot_set_1d[column].dropna())\n",
    "    \n",
    "for column in hist_set_1d:\n",
    "    histogram_seaborn(hist_set_1d[column].dropna())\n",
    "    \n",
    "for catcol in barplot_set_1d:\n",
    "    for numcol in hist_set_1d:\n",
    "        # find a way to drop the NaNs in this data set, but okay\n",
    "        boxplot_seaborn(barplot_set_1d[catcol], hist_set_1d[numcol])"
   ]
  },
  {
   "cell_type": "code",
   "execution_count": 47,
   "metadata": {
    "collapsed": true
   },
   "outputs": [],
   "source": [
    "def barplot_bokeh(categorical_data):\n",
    "    pass\n",
    "     \n",
    "    \n",
    "def histogram_bokeh(numerical_data):\n",
    "    pass\n",
    "\n",
    "\n",
    "def boxplot_bokeh(categorical_data, numerical_data):\n",
    "    pass"
   ]
  },
  {
   "cell_type": "code",
   "execution_count": null,
   "metadata": {
    "collapsed": true
   },
   "outputs": [],
   "source": [
    "for column in barplot_set_1d:\n",
    "    barplot_bokeh(barplot_set_1d[column].dropna())\n",
    "    \n",
    "for column in hist_set_1d:\n",
    "    histogram_bokeh(hist_set_1d[column].dropna())\n",
    "    \n",
    "for catcol in barplot_set_1d:\n",
    "    for numcol in hist_set_1d:\n",
    "        # find a way to drop the NaNs in this data set, but okay\n",
    "        boxplot_bokeh(barplot_set_1d[catcol], hist_set_1d[numcol])"
   ]
  },
  {
   "cell_type": "code",
   "execution_count": 48,
   "metadata": {
    "collapsed": true
   },
   "outputs": [],
   "source": [
    "def barplot_dash(categorical_data):\n",
    "    pass\n",
    "     \n",
    "    \n",
    "def histogram_dash(numerical_data):\n",
    "    pass\n",
    "\n",
    "\n",
    "def boxplot_dash(categorical_data, numerical_data):\n",
    "    pass"
   ]
  },
  {
   "cell_type": "code",
   "execution_count": null,
   "metadata": {
    "collapsed": true
   },
   "outputs": [],
   "source": [
    "for column in barplot_set_1d:\n",
    "    barplot_dash(barplot_set_1d[column].dropna())\n",
    "    \n",
    "for column in hist_set_1d:\n",
    "    histogram_dash(hist_set_1d[column].dropna())\n",
    "    \n",
    "for catcol in barplot_set_1d:\n",
    "    for numcol in hist_set_1d:\n",
    "        # find a way to drop the NaNs in this data set, but okay\n",
    "        boxplot_dash(barplot_set_1d[catcol], hist_set_1d[numcol])"
   ]
  },
  {
   "cell_type": "code",
   "execution_count": 49,
   "metadata": {
    "collapsed": true
   },
   "outputs": [],
   "source": [
    "def barplot_pyggplot2(categorical_data):\n",
    "    pass\n",
    "     \n",
    "    \n",
    "def histogram_pyggplot2(numerical_data):\n",
    "    pass\n",
    "\n",
    "\n",
    "def boxplot_pyggplot2(categorical_data, numerical_data):\n",
    "    pass"
   ]
  },
  {
   "cell_type": "code",
   "execution_count": null,
   "metadata": {
    "collapsed": true
   },
   "outputs": [],
   "source": [
    "for column in barplot_set_1d:\n",
    "    barplot_pyggplot2(barplot_set_1d[column].dropna())\n",
    "    \n",
    "for column in hist_set_1d:\n",
    "    histogram_pyggplot2(hist_set_1d[column].dropna())\n",
    "    \n",
    "for catcol in barplot_set_1d:\n",
    "    for numcol in hist_set_1d:\n",
    "        # find a way to drop the NaNs in this data set, but okay\n",
    "        boxplot_pyggplot2(barplot_set_1d[catcol], hist_set_1d[numcol])"
   ]
  },
  {
   "cell_type": "code",
   "execution_count": null,
   "metadata": {
    "collapsed": true
   },
   "outputs": [],
   "source": []
  }
 ],
 "metadata": {
  "kernelspec": {
   "display_name": "Python 3",
   "language": "python",
   "name": "python3"
  },
  "language_info": {
   "codemirror_mode": {
    "name": "ipython",
    "version": 3
   },
   "file_extension": ".py",
   "mimetype": "text/x-python",
   "name": "python",
   "nbconvert_exporter": "python",
   "pygments_lexer": "ipython3",
   "version": "3.5.2"
  }
 },
 "nbformat": 4,
 "nbformat_minor": 2
}
